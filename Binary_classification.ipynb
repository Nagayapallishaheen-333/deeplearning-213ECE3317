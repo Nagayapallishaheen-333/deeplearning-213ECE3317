{
  "nbformat": 4,
  "nbformat_minor": 0,
  "metadata": {
    "colab": {
      "provenance": [],
      "authorship_tag": "ABX9TyMN0b7mbQA8Wo+f7BmGD8/s",
      "include_colab_link": true
    },
    "kernelspec": {
      "name": "python3",
      "display_name": "Python 3"
    },
    "language_info": {
      "name": "python"
    }
  },
  "cells": [
    {
      "cell_type": "markdown",
      "metadata": {
        "id": "view-in-github",
        "colab_type": "text"
      },
      "source": [
        "<a href=\"https://colab.research.google.com/github/Nagayapallishaheen-333/deeplearning-213ECE3317/blob/main/Binary_classification.ipynb\" target=\"_parent\"><img src=\"https://colab.research.google.com/assets/colab-badge.svg\" alt=\"Open In Colab\"/></a>"
      ]
    },
    {
      "cell_type": "code",
      "execution_count": 1,
      "metadata": {
        "colab": {
          "base_uri": "https://localhost:8080/"
        },
        "id": "73D-oH377OgY",
        "outputId": "9264a9d2-ca33-4465-c5c0-b725e04c26ab"
      },
      "outputs": [
        {
          "output_type": "stream",
          "name": "stdout",
          "text": [
            "Epoch 1/10\n",
            "20/20 [==============================] - 2s 35ms/step - loss: 0.6770 - accuracy: 0.5969 - val_loss: 0.6546 - val_accuracy: 0.6687\n",
            "Epoch 2/10\n",
            "20/20 [==============================] - 0s 12ms/step - loss: 0.6561 - accuracy: 0.6141 - val_loss: 0.6267 - val_accuracy: 0.6500\n",
            "Epoch 3/10\n",
            "20/20 [==============================] - 0s 17ms/step - loss: 0.6366 - accuracy: 0.6562 - val_loss: 0.6075 - val_accuracy: 0.7063\n",
            "Epoch 4/10\n",
            "20/20 [==============================] - 0s 8ms/step - loss: 0.6167 - accuracy: 0.6969 - val_loss: 0.5885 - val_accuracy: 0.7188\n",
            "Epoch 5/10\n",
            "20/20 [==============================] - 0s 9ms/step - loss: 0.5958 - accuracy: 0.7219 - val_loss: 0.5659 - val_accuracy: 0.7437\n",
            "Epoch 6/10\n",
            "20/20 [==============================] - 0s 12ms/step - loss: 0.5744 - accuracy: 0.7547 - val_loss: 0.5467 - val_accuracy: 0.8062\n",
            "Epoch 7/10\n",
            "20/20 [==============================] - 0s 11ms/step - loss: 0.5516 - accuracy: 0.8047 - val_loss: 0.5247 - val_accuracy: 0.8125\n",
            "Epoch 8/10\n",
            "20/20 [==============================] - 0s 14ms/step - loss: 0.5281 - accuracy: 0.8203 - val_loss: 0.5026 - val_accuracy: 0.8687\n",
            "Epoch 9/10\n",
            "20/20 [==============================] - 0s 8ms/step - loss: 0.5038 - accuracy: 0.8500 - val_loss: 0.4796 - val_accuracy: 0.9125\n",
            "Epoch 10/10\n",
            "20/20 [==============================] - 0s 11ms/step - loss: 0.4785 - accuracy: 0.8625 - val_loss: 0.4550 - val_accuracy: 0.9125\n",
            "7/7 [==============================] - 0s 10ms/step\n",
            "Test accuracy: 0.8550\n"
          ]
        }
      ],
      "source": [
        "#2.BINARY CLASSIFICATION\n",
        "#9921005033\n",
        "import numpy as np\n",
        "import tensorflow as tf\n",
        "from tensorflow.keras.models import Sequential\n",
        "from tensorflow.keras.layers import Dense,Input\n",
        "from sklearn.model_selection import train_test_split\n",
        "from sklearn.metrics import accuracy_score\n",
        "np.random.seed(42)\n",
        "X = np.random.rand(1000, 2)\n",
        "y = (X[:, 0] + X[:, 1] > 1).astype(int)\n",
        "X_train, X_test, y_train, y_test = train_test_split(X, y, test_size=0.2, random_state=42)\n",
        "model = Sequential([Input(shape=(2)),Dense(64, activation='relu'),Dense(1, activation='sigmoid')])\n",
        "model.compile(optimizer='adam',loss='binary_crossentropy',metrics=['accuracy'])\n",
        "model.fit(X_train, y_train, epochs=10, batch_size=32, validation_split=0.2)\n",
        "y_pred = model.predict(X_test)\n",
        "y_pred_binary = (y_pred > 0.5).astype(int)\n",
        "test_accuracy = accuracy_score(y_test, y_pred_binary)\n",
        "print(f\"Test accuracy: {test_accuracy:.4f}\")"
      ]
    }
  ]
}