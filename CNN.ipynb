{
  "nbformat": 4,
  "nbformat_minor": 0,
  "metadata": {
    "colab": {
      "provenance": [],
      "authorship_tag": "ABX9TyOi3d85NjTRTQ+7gpSxNKM3",
      "include_colab_link": true
    },
    "kernelspec": {
      "name": "python3",
      "display_name": "Python 3"
    },
    "language_info": {
      "name": "python"
    }
  },
  "cells": [
    {
      "cell_type": "markdown",
      "metadata": {
        "id": "view-in-github",
        "colab_type": "text"
      },
      "source": [
        "<a href=\"https://colab.research.google.com/github/Nagayapallishaheen-333/deeplearning-213ECE3317/blob/main/CNN.ipynb\" target=\"_parent\"><img src=\"https://colab.research.google.com/assets/colab-badge.svg\" alt=\"Open In Colab\"/></a>"
      ]
    },
    {
      "cell_type": "code",
      "execution_count": 1,
      "metadata": {
        "colab": {
          "base_uri": "https://localhost:8080/"
        },
        "id": "y3P57A1UStTE",
        "outputId": "54d15804-f96e-4925-c697-bb3a90c3fa76"
      },
      "outputs": [
        {
          "output_type": "stream",
          "name": "stdout",
          "text": [
            "Downloading data from https://storage.googleapis.com/tensorflow/tf-keras-datasets/mnist.npz\n",
            "11490434/11490434 [==============================] - 0s 0us/step\n",
            "Epoch 1/10\n",
            "300/300 - 48s - loss: 0.3489 - accuracy: 0.8952 - 48s/epoch - 161ms/step\n",
            "Epoch 2/10\n",
            "300/300 - 41s - loss: 0.1048 - accuracy: 0.9691 - 41s/epoch - 138ms/step\n",
            "Epoch 3/10\n",
            "300/300 - 42s - loss: 0.0754 - accuracy: 0.9772 - 42s/epoch - 138ms/step\n",
            "Epoch 4/10\n",
            "300/300 - 41s - loss: 0.0631 - accuracy: 0.9818 - 41s/epoch - 138ms/step\n",
            "Epoch 5/10\n",
            "300/300 - 41s - loss: 0.0532 - accuracy: 0.9843 - 41s/epoch - 138ms/step\n",
            "Epoch 6/10\n",
            "300/300 - 41s - loss: 0.0442 - accuracy: 0.9865 - 41s/epoch - 137ms/step\n",
            "Epoch 7/10\n",
            "300/300 - 41s - loss: 0.0409 - accuracy: 0.9882 - 41s/epoch - 136ms/step\n",
            "Epoch 8/10\n",
            "300/300 - 40s - loss: 0.0359 - accuracy: 0.9887 - 40s/epoch - 133ms/step\n",
            "Epoch 9/10\n",
            "300/300 - 41s - loss: 0.0326 - accuracy: 0.9900 - 41s/epoch - 135ms/step\n",
            "Epoch 10/10\n",
            "300/300 - 41s - loss: 0.0289 - accuracy: 0.9916 - 41s/epoch - 138ms/step\n",
            "Test accuracy: 98.96%\n"
          ]
        }
      ],
      "source": [
        "#9 CNN\n",
        "import tensorflow as tf\n",
        "from tensorflow.keras.datasets import mnist\n",
        "from tensorflow.keras.models import Sequential\n",
        "from tensorflow.keras.layers import Conv2D, MaxPooling2D, Flatten, Dense, Dropout\n",
        "from tensorflow.keras.utils import to_categorical\n",
        "# Load and preprocess the dataset\n",
        "(x_train, y_train), (x_test, y_test) = mnist.load_data()\n",
        "x_train = x_train.reshape(x_train.shape[0], 28, 28, 1).astype('float32') / 255\n",
        "x_test = x_test.reshape(x_test.shape[0], 28, 28, 1).astype('float32') / 255\n",
        "y_train = to_categorical(y_train, 10)\n",
        "y_test = to_categorical(y_test, 10)\n",
        "# Build the CNN model\n",
        "model = Sequential()\n",
        "model.add(Conv2D(32, kernel_size=(3, 3), activation='relu', input_shape=(28, 28, 1)))\n",
        "model.add(MaxPooling2D(pool_size=(2, 2)))\n",
        "model.add(Conv2D(64, kernel_size=(3, 3), activation='relu'))\n",
        "model.add(MaxPooling2D(pool_size=(2, 2)))\n",
        "model.add(Flatten())\n",
        "model.add(Dense(128, activation='relu'))\n",
        "model.add(Dropout(0.5))\n",
        "model.add(Dense(10, activation='softmax'))\n",
        "model.compile(loss='categorical_crossentropy', optimizer='adam',metrics=['accuracy'])\n",
        "# Train the model\n",
        "model.fit(x_train, y_train, epochs=10,batch_size=200, verbose=2)\n",
        "# Evaluate the model\n",
        "test_loss, test_acc = model.evaluate(x_test, y_test, verbose=0)\n",
        "print(f'Test accuracy: {test_acc*100:.2f}%')"
      ]
    }
  ]
}