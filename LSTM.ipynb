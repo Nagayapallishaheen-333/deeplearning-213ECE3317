{
  "nbformat": 4,
  "nbformat_minor": 0,
  "metadata": {
    "colab": {
      "provenance": [],
      "authorship_tag": "ABX9TyNEImBUXaZPWUvNFq6o8dbO",
      "include_colab_link": true
    },
    "kernelspec": {
      "name": "python3",
      "display_name": "Python 3"
    },
    "language_info": {
      "name": "python"
    }
  },
  "cells": [
    {
      "cell_type": "markdown",
      "metadata": {
        "id": "view-in-github",
        "colab_type": "text"
      },
      "source": [
        "<a href=\"https://colab.research.google.com/github/Nagayapallishaheen-333/deeplearning-213ECE3317/blob/main/LSTM.ipynb\" target=\"_parent\"><img src=\"https://colab.research.google.com/assets/colab-badge.svg\" alt=\"Open In Colab\"/></a>"
      ]
    },
    {
      "cell_type": "code",
      "execution_count": 1,
      "metadata": {
        "colab": {
          "base_uri": "https://localhost:8080/"
        },
        "id": "J5Dgwh34V1cU",
        "outputId": "0d04c68d-c969-4b97-e395-f63caf9ee94d"
      },
      "outputs": [
        {
          "output_type": "stream",
          "name": "stdout",
          "text": [
            "Model: \"model\"\n",
            "_________________________________________________________________\n",
            " Layer (type)                Output Shape              Param #   \n",
            "=================================================================\n",
            " input_1 (InputLayer)        [(None, None)]            0         \n",
            "                                                                 \n",
            " embedding (Embedding)       (None, None, 128)         2560000   \n",
            "                                                                 \n",
            " bidirectional (Bidirection  (None, 128)               98816     \n",
            " al)                                                             \n",
            "                                                                 \n",
            " dense (Dense)               (None, 1)                 129       \n",
            "                                                                 \n",
            "=================================================================\n",
            "Total params: 2658945 (10.14 MB)\n",
            "Trainable params: 2658945 (10.14 MB)\n",
            "Non-trainable params: 0 (0.00 Byte)\n",
            "_________________________________________________________________\n",
            "Downloading data from https://storage.googleapis.com/tensorflow/tf-keras-datasets/imdb.npz\n",
            "17464789/17464789 [==============================] - 1s 0us/step\n",
            "25000 Training sequences\n",
            "25000 Validation sequences\n",
            "Epoch 1/2\n",
            "782/782 [==============================] - 303s 382ms/step - loss: 0.4087 - accuracy: 0.8163 - val_loss: 0.3321 - val_accuracy: 0.8608\n",
            "Epoch 2/2\n",
            "782/782 [==============================] - 298s 381ms/step - loss: 0.2262 - accuracy: 0.9132 - val_loss: 0.3342 - val_accuracy: 0.8665\n"
          ]
        },
        {
          "output_type": "execute_result",
          "data": {
            "text/plain": [
              "<keras.src.callbacks.History at 0x7b49ae3170a0>"
            ]
          },
          "metadata": {},
          "execution_count": 1
        }
      ],
      "source": [
        "#LSTM\n",
        "import numpy as np\n",
        "from tensorflow.keras.datasets import imdb\n",
        "from tensorflow.keras import Model\n",
        "from tensorflow.keras.layers import Input,Embedding,Bidirectional,LSTM,Dense\n",
        "from tensorflow.keras.preprocessing.sequence import pad_sequences\n",
        "max_features = 20000\n",
        "maxlen = 200\n",
        "inputs = Input(shape=(None,), dtype=\"int32\")\n",
        "x = Embedding(max_features, 128)(inputs)\n",
        "x = Bidirectional(LSTM(64))(x)\n",
        "outputs = Dense(1, activation=\"sigmoid\")(x)\n",
        "model = Model(inputs, outputs)\n",
        "model.summary()\n",
        "(x_train, y_train), (x_val, y_val) = imdb.load_data(num_words=max_features)\n",
        "print(len(x_train), \"Training sequences\")\n",
        "print(len(x_val), \"Validation sequences\")\n",
        "x_train = pad_sequences(x_train, maxlen=maxlen)\n",
        "x_val = pad_sequences(x_val, maxlen=maxlen)\n",
        "model.compile(\"adam\", \"binary_crossentropy\", metrics=[\"accuracy\"])\n",
        "model.fit(x_train, y_train, batch_size=32, epochs=2, validation_data=(x_val, y_val))"
      ]
    }
  ]
}